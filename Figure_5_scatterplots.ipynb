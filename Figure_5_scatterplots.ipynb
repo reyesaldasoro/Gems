{
 "cells": [
  {
   "cell_type": "markdown",
   "id": "76cf4b32",
   "metadata": {},
   "source": [
    "## Script that creates a figure with multiple scatterplots"
   ]
  },
  {
   "cell_type": "code",
   "execution_count": 1,
   "id": "3b64d9d0",
   "metadata": {},
   "outputs": [],
   "source": [
    "import imageio\n",
    "import numpy as np\n",
    "import matplotlib.pyplot as plt\n",
    "import os\n",
    "from skimage.color      import rgb2hsv\n",
    "from skimage.transform  import rescale, resize, downscale_local_mean\n",
    "from skimage.util       import montage\n",
    "import math             "
   ]
  },
  {
   "cell_type": "markdown",
   "id": "7a9619ae",
   "metadata": {},
   "source": [
    "Define a function that will a) remove the background and b) calculate the mean value. The background is taken as the average values of the top 5 rows of the images, then these values are subtracted from each channel and all pixels that are on average 5 values away (15 for the three channels) are removed."
   ]
  },
  {
   "cell_type": "code",
   "execution_count": 2,
   "id": "80a6f8ce",
   "metadata": {},
   "outputs": [],
   "source": [
    "def image_mean_no_background(im) :\n",
    "    # reshape image into a 3 column array\n",
    "    im=im[:,:,0:3]\n",
    "    #print(im.shape)\n",
    "    im2 = im.reshape(im.shape[0]*im.shape[1],3)\n",
    "    #print(im2.shape)\n",
    "    #calculate the background as the mean from the top 5 rows\n",
    "    background_r = im[1:5,:,0].mean()\n",
    "    background_g = im[1:5,:,1].mean()\n",
    "    background_b = im[1:5,:,2].mean()\n",
    "    # remove the background, for that subtract the means from each channel\n",
    "    # those points that are +-5 values away from the means are not background\n",
    "    \n",
    "    im3 = im2[( abs(im2[:,0]-background_r)+abs(im2[:,1]-background_g)+abs(im2[:,2]-background_g))>15,:]\n",
    "\n",
    "    #calculate mean of the image without the background\n",
    "    im_mean_rgb =([ im3[:,0].mean() , im3[:,1].mean() , im3[:,2].mean()])\n",
    "    return im_mean_rgb"
   ]
  },
  {
   "cell_type": "markdown",
   "id": "00c48580",
   "metadata": {},
   "source": [
    "Define the base folders and the number of files in each"
   ]
  },
  {
   "cell_type": "code",
   "execution_count": 3,
   "id": "a18e0346",
   "metadata": {},
   "outputs": [],
   "source": [
    "test_folders          = os.listdir('test')\n",
    "train_folders         = os.listdir('train')\n",
    "numTestFolders        = len(test_folders)\n",
    "numTrainFolders       = len(train_folders)"
   ]
  },
  {
   "cell_type": "markdown",
   "id": "9066290f",
   "metadata": {},
   "source": [
    "Determine the total number of files in the nested folders"
   ]
  },
  {
   "cell_type": "code",
   "execution_count": 4,
   "id": "353b0bed",
   "metadata": {},
   "outputs": [
    {
     "name": "stdout",
     "output_type": "stream",
     "text": [
      "2856\n"
     ]
    }
   ],
   "source": [
    "number_files = 0 \n",
    "for count_1 in train_folders :\n",
    "    # first loop over the folders\n",
    "    current_folder = os.listdir('train/'+count_1)\n",
    "    #print(current_folder)    \n",
    "    #second loop over the files in the folder\n",
    "    for count_2 in current_folder :\n",
    "        number_files = number_files + 1 \n",
    "        #im = imageio.imread('train/'+count_1+ '/' +count_2)\n",
    "        #print(count_2)\n",
    "        #print(image_mean_no_background(im))\n",
    "        #average_rgb[count_names,0:3]= image_mean_no_background(im)\n",
    "        \n",
    "print(number_files)    "
   ]
  },
  {
   "cell_type": "markdown",
   "id": "c6cf9ad0",
   "metadata": {},
   "source": [
    "1. Read all files,\n",
    "2. calculate central RGB,\n",
    "3. Convert to HSV\n",
    "4. Convert to CieLAB"
   ]
  },
  {
   "cell_type": "code",
   "execution_count": null,
   "id": "3ff2d4b4",
   "metadata": {},
   "outputs": [],
   "source": [
    "average_rgb = np.zeros((number_files,3))\n",
    "average_hsv = np.zeros((number_files,3))\n",
    "average_Lab = np.zeros((number_files,3))\n",
    "\n",
    "count_names = 0\n",
    "for count_1 in train_folders :\n",
    "    # first loop over the folders\n",
    "    current_folder = os.listdir('train/'+count_1)\n",
    "    #print(current_folder)    \n",
    "    #second loop over the files in the folder\n",
    "    for count_2 in current_folder :\n",
    "\n",
    "        im = imageio.imread('train/'+count_1+ '/' +count_2)\n",
    "        #print(count_2)\n",
    "        #print(image_mean_no_background(im))\n",
    "        tempValue                    = image_mean_no_background(im)\n",
    "        average_rgb[count_names,0:3] = tempValue\n",
    "        average_hsv[count_names,0:3] = rgb2hsv(np.array(tempValue))\n",
    "        average_Lab[count_names,0:3] = rgb2hsv(np.array(tempValue))\n",
    "        \n",
    "        count_names                  = count_names + 1 "
   ]
  }
 ],
 "metadata": {
  "kernelspec": {
   "display_name": "Python 3",
   "language": "python",
   "name": "python3"
  },
  "language_info": {
   "codemirror_mode": {
    "name": "ipython",
    "version": 3
   },
   "file_extension": ".py",
   "mimetype": "text/x-python",
   "name": "python",
   "nbconvert_exporter": "python",
   "pygments_lexer": "ipython3",
   "version": "3.8.8"
  }
 },
 "nbformat": 4,
 "nbformat_minor": 5
}
